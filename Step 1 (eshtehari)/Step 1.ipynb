{
 "cells": [
  {
   "cell_type": "markdown",
   "metadata": {},
   "source": [
    "# Spark session"
   ]
  },
  {
   "cell_type": "code",
   "execution_count": 105,
   "metadata": {},
   "outputs": [],
   "source": [
    "import findspark\n",
    "findspark.init()\n",
    "\n",
    "# import pyspark\n",
    "# sc = pyspark.SparkContext(appName=\"AppName\")\n",
    "\n",
    "from pyspark.sql import SparkSession\n",
    "\n",
    "    # .config(\"spark.driver.memory\", \"8g\") \\\n",
    "    # .config(\"spark.executor.memory\", \"8g\") \\\n",
    "\n",
    "spark = SparkSession.builder \\\n",
    "    .appName(\"PostgreSQL Connection with PySpark\") \\\n",
    "    .config(\"spark.ui.showConsoleProgress\", \"false\") \\\n",
    "    .config(\"spark.jars\", \"postgresql-42.6.0.jar\") \\\n",
    "    .getOrCreate()\n",
    "\n",
    "spark.sparkContext.setLogLevel(logLevel='ERROR')\n"
   ]
  },
  {
   "cell_type": "markdown",
   "metadata": {},
   "source": [
    "# Spark Postgres connector"
   ]
  },
  {
   "cell_type": "code",
   "execution_count": 106,
   "metadata": {},
   "outputs": [],
   "source": [
    "PG_DATABASE = 'malisarafi'\n",
    "PG_USER = 'malisarafiuser'\n",
    "PG_PASSWORD = 'chJ1L^nokFvga8'\n",
    "PG_PORT = 5432\n",
    "PG_HOST = '127.0.0.1'\n",
    "\n",
    "properties = {\n",
    "    \"user\": PG_USER,\n",
    "    \"password\": PG_PASSWORD,\n",
    "    \"driver\": \"org.postgresql.Driver\"\n",
    "}\n",
    "\n",
    "url = f\"jdbc:postgresql://{PG_HOST}:{PG_PORT}/{PG_DATABASE}\"\n",
    "\n",
    "table_name = \"news\"\n",
    "\n",
    "df = spark.read.jdbc(url=url, table=table_name, properties=properties)\n"
   ]
  },
  {
   "cell_type": "code",
   "execution_count": 107,
   "metadata": {},
   "outputs": [
    {
     "name": "stdout",
     "output_type": "stream",
     "text": [
      "+-----+--------+--------------------+--------------------+----------------+--------------------+--------------------+--------------------+--------------------+--------------------+\n",
      "|   id| page_id|                 url|                head|          author|            category|                date|                tags|                text|             summary|\n",
      "+-----+--------+--------------------+--------------------+----------------+--------------------+--------------------+--------------------+--------------------+--------------------+\n",
      "|29499|14324439|https://www.tgju....|                    |                |                    |                    |                    |                    |                    |\n",
      "|29503|10874582|https://www.tgju....|                    |                |                    |                    |                    |                    |                    |\n",
      "|29506|15316541|https://www.tgju....|                    |                |                    |                    |                    |                    |                    |\n",
      "|32298| 2172793|https://www.tgju....|سناریوی کاهش نفت ...|     معصومه دانش|     اخبار طلا و سکه|دوشنبه 22 خرداد 1402|بهای نفت|نفت خام|...|به گزارششبکه اطلا...|از آنجا که نگرانی...|\n",
      "|29513| 2402232|https://www.tgju....|                    |                |                    |                    |                    |                    |                    |\n",
      "|35473|15139894|https://www.insta...|                    |                |                    |                    |                    |                    |                    |\n",
      "|36785|13952421|https://telegram....|                    |                |                    |                    |                    |                    |                    |\n",
      "|    3|      19|https://www.tgju....|خرس‌های طلا در کمین!|     معصومه دانش|     اخبار طلا و سکه|  یکشنبه 25 تیر 1402|بهای طلا|بهای نقر...|به گزارششبکه اطلا...|گرچه طلا قیمت‌های...|\n",
      "|    4|      21|https://www.tgju....|چشم‌انداز بیت کوی...|امیر رضا مصطفایی|اخبار ارزهای دیجیتال|  یکشنبه 25 تیر 1402|ریپل|بیت کوین|اتر...|به گزارششبکه اطلا...|قیمت بیت‌کوین تحت...|\n",
      "|    5|      23|https://www.tgju....|آیا اکنون وقت خری...|امیر رضا مصطفایی|اخبار ارزهای دیجیتال|  یکشنبه 25 تیر 1402|ریپل|کمیسیون بورس...|به گزارششبکه اطلا...|با انتشار خبری مب...|\n",
      "|    6|      25|https://www.tgju....|                    |                |اخبار ارزهای دیجیتال|                    |                    |                    |                    |\n",
      "|    7|    3673|https://www.tgju....|                    |                |                    |                    |                    |                    |                    |\n",
      "|  799|    5892|https://www.tgju....|                    |                |                    |                    |                    |                    |                    |\n",
      "|    9|    3680|https://www.tgju....|                    |                |                    |                    |                    |                    |                    |\n",
      "|   10|      26|https://www.tgju....|                    |                |          اخبار ارزی|                    |                    |                    |                    |\n",
      "|   11|      27|https://www.tgju....|                    |                |     اخبار طلا و سکه|                    |                    |                    |                    |\n",
      "|  800|    5893|https://www.tgju....|                    |                |                    |                    |                    |                    |                    |\n",
      "|   13|      28|https://www.tgju....|                    |                |      گزارش‌ بازارها|                    |                    |                    |                    |\n",
      "|   14|      29|https://www.tgju....|                    |                |راهنمای جامع اندی...|                    |                    |                    |                    |\n",
      "|   15|      30|https://www.tgju....|                    |                |     اخبار طلا و سکه|                    |                    |                    |                    |\n",
      "+-----+--------+--------------------+--------------------+----------------+--------------------+--------------------+--------------------+--------------------+--------------------+\n",
      "only showing top 20 rows\n",
      "\n"
     ]
    }
   ],
   "source": [
    "df.show()"
   ]
  },
  {
   "cell_type": "markdown",
   "metadata": {},
   "source": [
    "## News statistical info"
   ]
  },
  {
   "cell_type": "code",
   "execution_count": 108,
   "metadata": {},
   "outputs": [
    {
     "name": "stdout",
     "output_type": "stream",
     "text": [
      "14943\n"
     ]
    }
   ],
   "source": [
    "query = f\"(SELECT COUNT(*) FROM {table_name}) AS count\"\n",
    "row_count_df = spark.read \\\n",
    "    .jdbc(url=url, table=query, properties=properties)\n",
    "\n",
    "# Extract the row count value\n",
    "row_count = row_count_df.first()[0]\n",
    "print(row_count)\n"
   ]
  },
  {
   "cell_type": "code",
   "execution_count": 109,
   "metadata": {},
   "outputs": [
    {
     "data": {
      "text/plain": [
       "<bound method DataFrame.show of DataFrame[id: int, page_id: int, url: string, head: string, author: string, category: string, date: string, tags: string, text: string, summary: string]>"
      ]
     },
     "execution_count": 109,
     "metadata": {},
     "output_type": "execute_result"
    }
   ],
   "source": [
    "df.show"
   ]
  },
  {
   "cell_type": "code",
   "execution_count": 110,
   "metadata": {},
   "outputs": [],
   "source": [
    "from pyspark.sql.types import DoubleType, IntegerType, StringType\n",
    "from pyspark.sql.functions import mean, col, desc, count, isnull, isnan, when, rank, sum, trim\n",
    "import pandas as pd\n",
    "import matplotlib.pyplot as plt"
   ]
  },
  {
   "cell_type": "code",
   "execution_count": 111,
   "metadata": {},
   "outputs": [
    {
     "data": {
      "text/plain": [
       "[('id', 'int'),\n",
       " ('page_id', 'int'),\n",
       " ('url', 'string'),\n",
       " ('head', 'string'),\n",
       " ('author', 'string'),\n",
       " ('category', 'string'),\n",
       " ('date', 'string'),\n",
       " ('tags', 'string'),\n",
       " ('text', 'string'),\n",
       " ('summary', 'string')]"
      ]
     },
     "metadata": {},
     "output_type": "display_data"
    },
    {
     "name": "stdout",
     "output_type": "stream",
     "text": [
      "root\n",
      " |-- id: integer (nullable = true)\n",
      " |-- page_id: integer (nullable = true)\n",
      " |-- url: string (nullable = true)\n",
      " |-- head: string (nullable = true)\n",
      " |-- author: string (nullable = true)\n",
      " |-- category: string (nullable = true)\n",
      " |-- date: string (nullable = true)\n",
      " |-- tags: string (nullable = true)\n",
      " |-- text: string (nullable = true)\n",
      " |-- summary: string (nullable = true)\n",
      "\n"
     ]
    }
   ],
   "source": [
    "display(df.dtypes)\n",
    "df.printSchema()\n"
   ]
  },
  {
   "cell_type": "code",
   "execution_count": 112,
   "metadata": {},
   "outputs": [
    {
     "data": {
      "text/plain": [
       "14943"
      ]
     },
     "execution_count": 112,
     "metadata": {},
     "output_type": "execute_result"
    }
   ],
   "source": [
    "df.count()"
   ]
  },
  {
   "cell_type": "code",
   "execution_count": 113,
   "metadata": {},
   "outputs": [
    {
     "data": {
      "text/plain": [
       "['id',\n",
       " 'page_id',\n",
       " 'url',\n",
       " 'head',\n",
       " 'author',\n",
       " 'category',\n",
       " 'date',\n",
       " 'tags',\n",
       " 'text',\n",
       " 'summary']"
      ]
     },
     "execution_count": 113,
     "metadata": {},
     "output_type": "execute_result"
    }
   ],
   "source": [
    "df.columns"
   ]
  },
  {
   "cell_type": "code",
   "execution_count": 114,
   "metadata": {},
   "outputs": [
    {
     "data": {
      "text/plain": [
       "10"
      ]
     },
     "execution_count": 114,
     "metadata": {},
     "output_type": "execute_result"
    }
   ],
   "source": [
    "len(df.columns)"
   ]
  },
  {
   "cell_type": "code",
   "execution_count": 115,
   "metadata": {},
   "outputs": [
    {
     "name": "stdout",
     "output_type": "stream",
     "text": [
      "+--------------------+\n",
      "|              author|\n",
      "+--------------------+\n",
      "|    امیر رضا مصطفایی|\n",
      "|         ادمین سیستم|\n",
      "|            پشتیبانی|\n",
      "|               ادمین|\n",
      "|             اپراتور|\n",
      "|نوشته‌های امیر رض...|\n",
      "|    گروه تولید محتوا|\n",
      "|نوشته‌های معصومه ...|\n",
      "|                    |\n",
      "|         معصومه دانش|\n",
      "+--------------------+\n",
      "\n",
      "+--------------------+\n",
      "|            category|\n",
      "+--------------------+\n",
      "| اخبار تولید و تجارت|\n",
      "|          اخبار ارزی|\n",
      "|         اخبار خودرو|\n",
      "|آموزش های ترید و ...|\n",
      "|بازار ارزهای دیجی...|\n",
      "|بازار ارزهای دیجی...|\n",
      "| قوانین بازار رمزارز|\n",
      "|        اخبار فناوری|\n",
      "|          اخبار بورس|\n",
      "|         اخبار بانکی|\n",
      "|     اخبار طلا و سکه|\n",
      "|اخبار ارزهای دیجیتال|\n",
      "|      گزارش‌ بازارها|\n",
      "|   اخبار نفت و انرژی|\n",
      "|راهنمای جامع اندی...|\n",
      "|       برترین برندها|\n",
      "|          طلا و نقره|\n",
      "|          اخبار مسکن|\n",
      "|بازار ارزهای دیجی...|\n",
      "|                    |\n",
      "+--------------------+\n",
      "only showing top 20 rows\n",
      "\n",
      "+--------------------+\n",
      "|                date|\n",
      "+--------------------+\n",
      "| چهارشنبه 21 دی 1401|\n",
      "|  شنبه 27 اسفند 1401|\n",
      "|سه شنبه 22 شهریور...|\n",
      "|پنجشنبه 6 مرداد 1401|\n",
      "| پنجشنبه 22 تیر 1402|\n",
      "|     شنبه 17 دی 1401|\n",
      "|سه شنبه 19 اردیبه...|\n",
      "| دوشنبه 16 آبان 1401|\n",
      "| دوشنبه 1 خرداد 1402|\n",
      "|   پنجشنبه 1 دی 1401|\n",
      "|سه شنبه 8 فروردین...|\n",
      "| دوشنبه 30 آبان 1401|\n",
      "| دوشنبه 17 بهمن 1401|\n",
      "|  شنبه 13 خرداد 1402|\n",
      "|دوشنبه 18 اردیبهش...|\n",
      "| شنبه 6 فروردین 1401|\n",
      "|دوشنبه 25 اردیبهش...|\n",
      "| سه شنبه 29 آذر 1401|\n",
      "|  جمعه 12 خرداد 1402|\n",
      "|یکشنبه 21 خرداد 1402|\n",
      "+--------------------+\n",
      "only showing top 20 rows\n",
      "\n"
     ]
    }
   ],
   "source": [
    "for column in ['author', 'category', 'date']:\n",
    "    df.select(column).distinct().show()\n"
   ]
  },
  {
   "cell_type": "code",
   "execution_count": 116,
   "metadata": {},
   "outputs": [
    {
     "data": {
      "text/html": [
       "<div>\n",
       "<style scoped>\n",
       "    .dataframe tbody tr th:only-of-type {\n",
       "        vertical-align: middle;\n",
       "    }\n",
       "\n",
       "    .dataframe tbody tr th {\n",
       "        vertical-align: top;\n",
       "    }\n",
       "\n",
       "    .dataframe thead th {\n",
       "        text-align: right;\n",
       "    }\n",
       "</style>\n",
       "<table border=\"1\" class=\"dataframe\">\n",
       "  <thead>\n",
       "    <tr style=\"text-align: right;\">\n",
       "      <th></th>\n",
       "      <th>author</th>\n",
       "      <th>count</th>\n",
       "    </tr>\n",
       "  </thead>\n",
       "  <tbody>\n",
       "    <tr>\n",
       "      <th>0</th>\n",
       "      <td></td>\n",
       "      <td>13208</td>\n",
       "    </tr>\n",
       "    <tr>\n",
       "      <th>1</th>\n",
       "      <td>معصومه دانش</td>\n",
       "      <td>821</td>\n",
       "    </tr>\n",
       "    <tr>\n",
       "      <th>2</th>\n",
       "      <td>امیر رضا مصطفایی</td>\n",
       "      <td>533</td>\n",
       "    </tr>\n",
       "    <tr>\n",
       "      <th>3</th>\n",
       "      <td>گروه تولید محتوا</td>\n",
       "      <td>162</td>\n",
       "    </tr>\n",
       "    <tr>\n",
       "      <th>4</th>\n",
       "      <td>ادمین سیستم</td>\n",
       "      <td>97</td>\n",
       "    </tr>\n",
       "    <tr>\n",
       "      <th>5</th>\n",
       "      <td>ادمین</td>\n",
       "      <td>74</td>\n",
       "    </tr>\n",
       "    <tr>\n",
       "      <th>6</th>\n",
       "      <td>پشتیبانی</td>\n",
       "      <td>40</td>\n",
       "    </tr>\n",
       "    <tr>\n",
       "      <th>7</th>\n",
       "      <td>اپراتور</td>\n",
       "      <td>6</td>\n",
       "    </tr>\n",
       "    <tr>\n",
       "      <th>8</th>\n",
       "      <td>نوشته‌های امیر رضا مصطفایی</td>\n",
       "      <td>1</td>\n",
       "    </tr>\n",
       "    <tr>\n",
       "      <th>9</th>\n",
       "      <td>نوشته‌های معصومه دانش</td>\n",
       "      <td>1</td>\n",
       "    </tr>\n",
       "  </tbody>\n",
       "</table>\n",
       "</div>"
      ],
      "text/plain": [
       "                       author  count\n",
       "0                              13208\n",
       "1                 معصومه دانش    821\n",
       "2            امیر رضا مصطفایی    533\n",
       "3            گروه تولید محتوا    162\n",
       "4                 ادمین سیستم     97\n",
       "5                       ادمین     74\n",
       "6                    پشتیبانی     40\n",
       "7                     اپراتور      6\n",
       "8  نوشته‌های امیر رضا مصطفایی      1\n",
       "9       نوشته‌های معصومه دانش      1"
      ]
     },
     "metadata": {},
     "output_type": "display_data"
    },
    {
     "data": {
      "text/html": [
       "<div>\n",
       "<style scoped>\n",
       "    .dataframe tbody tr th:only-of-type {\n",
       "        vertical-align: middle;\n",
       "    }\n",
       "\n",
       "    .dataframe tbody tr th {\n",
       "        vertical-align: top;\n",
       "    }\n",
       "\n",
       "    .dataframe thead th {\n",
       "        text-align: right;\n",
       "    }\n",
       "</style>\n",
       "<table border=\"1\" class=\"dataframe\">\n",
       "  <thead>\n",
       "    <tr style=\"text-align: right;\">\n",
       "      <th></th>\n",
       "      <th>category</th>\n",
       "      <th>count</th>\n",
       "    </tr>\n",
       "  </thead>\n",
       "  <tbody>\n",
       "    <tr>\n",
       "      <th>0</th>\n",
       "      <td></td>\n",
       "      <td>10179</td>\n",
       "    </tr>\n",
       "    <tr>\n",
       "      <th>1</th>\n",
       "      <td>اخبار طلا و سکه</td>\n",
       "      <td>892</td>\n",
       "    </tr>\n",
       "    <tr>\n",
       "      <th>2</th>\n",
       "      <td>اخبار ارزهای دیجیتال</td>\n",
       "      <td>683</td>\n",
       "    </tr>\n",
       "    <tr>\n",
       "      <th>3</th>\n",
       "      <td>اخبار ارزی</td>\n",
       "      <td>511</td>\n",
       "    </tr>\n",
       "    <tr>\n",
       "      <th>4</th>\n",
       "      <td>گزارش‌ بازارها</td>\n",
       "      <td>373</td>\n",
       "    </tr>\n",
       "    <tr>\n",
       "      <th>5</th>\n",
       "      <td>اخبار نفت و انرژی</td>\n",
       "      <td>259</td>\n",
       "    </tr>\n",
       "    <tr>\n",
       "      <th>6</th>\n",
       "      <td>اخبار خودرو</td>\n",
       "      <td>257</td>\n",
       "    </tr>\n",
       "    <tr>\n",
       "      <th>7</th>\n",
       "      <td>اخبار بورس</td>\n",
       "      <td>245</td>\n",
       "    </tr>\n",
       "    <tr>\n",
       "      <th>8</th>\n",
       "      <td>اخبار فناوری</td>\n",
       "      <td>240</td>\n",
       "    </tr>\n",
       "    <tr>\n",
       "      <th>9</th>\n",
       "      <td>اخبار تولید و تجارت</td>\n",
       "      <td>201</td>\n",
       "    </tr>\n",
       "    <tr>\n",
       "      <th>10</th>\n",
       "      <td>اخبار جهان</td>\n",
       "      <td>201</td>\n",
       "    </tr>\n",
       "    <tr>\n",
       "      <th>11</th>\n",
       "      <td>اخبار بانکی</td>\n",
       "      <td>198</td>\n",
       "    </tr>\n",
       "    <tr>\n",
       "      <th>12</th>\n",
       "      <td>اخبار مسکن</td>\n",
       "      <td>193</td>\n",
       "    </tr>\n",
       "    <tr>\n",
       "      <th>13</th>\n",
       "      <td>اخبار قیمت‌ها</td>\n",
       "      <td>191</td>\n",
       "    </tr>\n",
       "    <tr>\n",
       "      <th>14</th>\n",
       "      <td>راهنمای جامع اندیکاتورها</td>\n",
       "      <td>135</td>\n",
       "    </tr>\n",
       "    <tr>\n",
       "      <th>15</th>\n",
       "      <td>آموزش های ترید و معاملات</td>\n",
       "      <td>79</td>\n",
       "    </tr>\n",
       "    <tr>\n",
       "      <th>16</th>\n",
       "      <td>برترین برندها</td>\n",
       "      <td>40</td>\n",
       "    </tr>\n",
       "    <tr>\n",
       "      <th>17</th>\n",
       "      <td>بازار ارزهای دیجیتال / آموزش های پایه</td>\n",
       "      <td>33</td>\n",
       "    </tr>\n",
       "    <tr>\n",
       "      <th>18</th>\n",
       "      <td>بازار ارزهای دیجیتال / آموزش معاملات</td>\n",
       "      <td>15</td>\n",
       "    </tr>\n",
       "    <tr>\n",
       "      <th>19</th>\n",
       "      <td>بازار ارزهای دیجیتال / آموزش‌های توسعه‌دهندگان</td>\n",
       "      <td>7</td>\n",
       "    </tr>\n",
       "    <tr>\n",
       "      <th>20</th>\n",
       "      <td>طلا و نقره</td>\n",
       "      <td>6</td>\n",
       "    </tr>\n",
       "    <tr>\n",
       "      <th>21</th>\n",
       "      <td>تحلیل بازارها</td>\n",
       "      <td>3</td>\n",
       "    </tr>\n",
       "    <tr>\n",
       "      <th>22</th>\n",
       "      <td>قوانین بازار رمزارز</td>\n",
       "      <td>1</td>\n",
       "    </tr>\n",
       "    <tr>\n",
       "      <th>23</th>\n",
       "      <td>آکادمی</td>\n",
       "      <td>1</td>\n",
       "    </tr>\n",
       "  </tbody>\n",
       "</table>\n",
       "</div>"
      ],
      "text/plain": [
       "                                          category  count\n",
       "0                                                   10179\n",
       "1                                  اخبار طلا و سکه    892\n",
       "2                             اخبار ارزهای دیجیتال    683\n",
       "3                                       اخبار ارزی    511\n",
       "4                                   گزارش‌ بازارها    373\n",
       "5                                اخبار نفت و انرژی    259\n",
       "6                                      اخبار خودرو    257\n",
       "7                                       اخبار بورس    245\n",
       "8                                     اخبار فناوری    240\n",
       "9                              اخبار تولید و تجارت    201\n",
       "10                                      اخبار جهان    201\n",
       "11                                     اخبار بانکی    198\n",
       "12                                      اخبار مسکن    193\n",
       "13                                   اخبار قیمت‌ها    191\n",
       "14                        راهنمای جامع اندیکاتورها    135\n",
       "15                        آموزش های ترید و معاملات     79\n",
       "16                                   برترین برندها     40\n",
       "17           بازار ارزهای دیجیتال / آموزش های پایه     33\n",
       "18            بازار ارزهای دیجیتال / آموزش معاملات     15\n",
       "19  بازار ارزهای دیجیتال / آموزش‌های توسعه‌دهندگان      7\n",
       "20                                      طلا و نقره      6\n",
       "21                                   تحلیل بازارها      3\n",
       "22                             قوانین بازار رمزارز      1\n",
       "23                                          آکادمی      1"
      ]
     },
     "metadata": {},
     "output_type": "display_data"
    },
    {
     "data": {
      "text/html": [
       "<div>\n",
       "<style scoped>\n",
       "    .dataframe tbody tr th:only-of-type {\n",
       "        vertical-align: middle;\n",
       "    }\n",
       "\n",
       "    .dataframe tbody tr th {\n",
       "        vertical-align: top;\n",
       "    }\n",
       "\n",
       "    .dataframe thead th {\n",
       "        text-align: right;\n",
       "    }\n",
       "</style>\n",
       "<table border=\"1\" class=\"dataframe\">\n",
       "  <thead>\n",
       "    <tr style=\"text-align: right;\">\n",
       "      <th></th>\n",
       "      <th>date</th>\n",
       "      <th>count</th>\n",
       "    </tr>\n",
       "  </thead>\n",
       "  <tbody>\n",
       "    <tr>\n",
       "      <th>0</th>\n",
       "      <td></td>\n",
       "      <td>10531</td>\n",
       "    </tr>\n",
       "    <tr>\n",
       "      <th>1</th>\n",
       "      <td>جمعه 13 اسفند 1400</td>\n",
       "      <td>246</td>\n",
       "    </tr>\n",
       "    <tr>\n",
       "      <th>2</th>\n",
       "      <td>یکشنبه 25 تیر 1402</td>\n",
       "      <td>229</td>\n",
       "    </tr>\n",
       "    <tr>\n",
       "      <th>3</th>\n",
       "      <td>چهارشنبه 28 تیر 1402</td>\n",
       "      <td>216</td>\n",
       "    </tr>\n",
       "    <tr>\n",
       "      <th>4</th>\n",
       "      <td>شنبه 24 تیر 1402</td>\n",
       "      <td>215</td>\n",
       "    </tr>\n",
       "    <tr>\n",
       "      <th>...</th>\n",
       "      <td>...</td>\n",
       "      <td>...</td>\n",
       "    </tr>\n",
       "    <tr>\n",
       "      <th>314</th>\n",
       "      <td>دوشنبه 15 فروردین 1401</td>\n",
       "      <td>1</td>\n",
       "    </tr>\n",
       "    <tr>\n",
       "      <th>315</th>\n",
       "      <td>سه شنبه 17 آبان 1401</td>\n",
       "      <td>1</td>\n",
       "    </tr>\n",
       "    <tr>\n",
       "      <th>316</th>\n",
       "      <td>چهارشنبه 9 آذر 1401</td>\n",
       "      <td>1</td>\n",
       "    </tr>\n",
       "    <tr>\n",
       "      <th>317</th>\n",
       "      <td>دوشنبه 3 مرداد 1401</td>\n",
       "      <td>1</td>\n",
       "    </tr>\n",
       "    <tr>\n",
       "      <th>318</th>\n",
       "      <td>یکشنبه 13 شهریور 1401</td>\n",
       "      <td>1</td>\n",
       "    </tr>\n",
       "  </tbody>\n",
       "</table>\n",
       "<p>319 rows × 2 columns</p>\n",
       "</div>"
      ],
      "text/plain": [
       "                       date  count\n",
       "0                            10531\n",
       "1        جمعه 13 اسفند 1400    246\n",
       "2        یکشنبه 25 تیر 1402    229\n",
       "3      چهارشنبه 28 تیر 1402    216\n",
       "4          شنبه 24 تیر 1402    215\n",
       "..                      ...    ...\n",
       "314  دوشنبه 15 فروردین 1401      1\n",
       "315    سه شنبه 17 آبان 1401      1\n",
       "316     چهارشنبه 9 آذر 1401      1\n",
       "317     دوشنبه 3 مرداد 1401      1\n",
       "318   یکشنبه 13 شهریور 1401      1\n",
       "\n",
       "[319 rows x 2 columns]"
      ]
     },
     "metadata": {},
     "output_type": "display_data"
    }
   ],
   "source": [
    "for column in ['author', 'category', 'date']:\n",
    "    result = df.groupBy(column).count().orderBy(\"count\", ascending=False)\n",
    "    display(result.toPandas())\n"
   ]
  },
  {
   "cell_type": "code",
   "execution_count": 117,
   "metadata": {},
   "outputs": [
    {
     "data": {
      "text/html": [
       "<div>\n",
       "<style scoped>\n",
       "    .dataframe tbody tr th:only-of-type {\n",
       "        vertical-align: middle;\n",
       "    }\n",
       "\n",
       "    .dataframe tbody tr th {\n",
       "        vertical-align: top;\n",
       "    }\n",
       "\n",
       "    .dataframe thead th {\n",
       "        text-align: right;\n",
       "    }\n",
       "</style>\n",
       "<table border=\"1\" class=\"dataframe\">\n",
       "  <thead>\n",
       "    <tr style=\"text-align: right;\">\n",
       "      <th></th>\n",
       "      <th>Empty Count</th>\n",
       "    </tr>\n",
       "  </thead>\n",
       "  <tbody>\n",
       "    <tr>\n",
       "      <th>id</th>\n",
       "      <td>0</td>\n",
       "    </tr>\n",
       "    <tr>\n",
       "      <th>page_id</th>\n",
       "      <td>0</td>\n",
       "    </tr>\n",
       "    <tr>\n",
       "      <th>url</th>\n",
       "      <td>0</td>\n",
       "    </tr>\n",
       "    <tr>\n",
       "      <th>head</th>\n",
       "      <td>10531</td>\n",
       "    </tr>\n",
       "    <tr>\n",
       "      <th>author</th>\n",
       "      <td>13208</td>\n",
       "    </tr>\n",
       "    <tr>\n",
       "      <th>category</th>\n",
       "      <td>10179</td>\n",
       "    </tr>\n",
       "    <tr>\n",
       "      <th>date</th>\n",
       "      <td>10531</td>\n",
       "    </tr>\n",
       "    <tr>\n",
       "      <th>tags</th>\n",
       "      <td>13002</td>\n",
       "    </tr>\n",
       "    <tr>\n",
       "      <th>text</th>\n",
       "      <td>10549</td>\n",
       "    </tr>\n",
       "    <tr>\n",
       "      <th>summary</th>\n",
       "      <td>10718</td>\n",
       "    </tr>\n",
       "  </tbody>\n",
       "</table>\n",
       "</div>"
      ],
      "text/plain": [
       "          Empty Count\n",
       "id                  0\n",
       "page_id             0\n",
       "url                 0\n",
       "head            10531\n",
       "author          13208\n",
       "category        10179\n",
       "date            10531\n",
       "tags            13002\n",
       "text            10549\n",
       "summary         10718"
      ]
     },
     "metadata": {},
     "output_type": "display_data"
    }
   ],
   "source": [
    "empty_counts = df.select([count(when(trim(df[c]) == '', c)).alias(c) for c in df.columns]).toPandas().T\n",
    "empty_counts.columns = ['Empty Count']\n",
    "display(empty_counts)\n"
   ]
  },
  {
   "cell_type": "code",
   "execution_count": 118,
   "metadata": {},
   "outputs": [],
   "source": [
    "for col_name in df.columns:\n",
    "    df = df.withColumn(col_name, when(col(col_name) == \"\", None).otherwise(col(col_name)))\n",
    "\n",
    "df = df.dropna()\n"
   ]
  },
  {
   "cell_type": "code",
   "execution_count": 119,
   "metadata": {},
   "outputs": [
    {
     "data": {
      "text/plain": [
       "1597"
      ]
     },
     "execution_count": 119,
     "metadata": {},
     "output_type": "execute_result"
    }
   ],
   "source": [
    "df.count()"
   ]
  },
  {
   "cell_type": "code",
   "execution_count": 120,
   "metadata": {},
   "outputs": [
    {
     "name": "stdout",
     "output_type": "stream",
     "text": [
      "+-----+--------+--------------------+--------------------+----------------+--------------------+--------------------+--------------------+--------------------+--------------------+\n",
      "|   id| page_id|                 url|                head|          author|            category|                date|                tags|                text|             summary|\n",
      "+-----+--------+--------------------+--------------------+----------------+--------------------+--------------------+--------------------+--------------------+--------------------+\n",
      "|32298| 2172793|https://www.tgju....|سناریوی کاهش نفت ...|     معصومه دانش|     اخبار طلا و سکه|دوشنبه 22 خرداد 1402|بهای نفت|نفت خام|...|به گزارششبکه اطلا...|از آنجا که نگرانی...|\n",
      "|    3|      19|https://www.tgju....|خرس‌های طلا در کمین!|     معصومه دانش|     اخبار طلا و سکه|  یکشنبه 25 تیر 1402|بهای طلا|بهای نقر...|به گزارششبکه اطلا...|گرچه طلا قیمت‌های...|\n",
      "|    4|      21|https://www.tgju....|چشم‌انداز بیت کوی...|امیر رضا مصطفایی|اخبار ارزهای دیجیتال|  یکشنبه 25 تیر 1402|ریپل|بیت کوین|اتر...|به گزارششبکه اطلا...|قیمت بیت‌کوین تحت...|\n",
      "|    5|      23|https://www.tgju....|آیا اکنون وقت خری...|امیر رضا مصطفایی|اخبار ارزهای دیجیتال|  یکشنبه 25 تیر 1402|ریپل|کمیسیون بورس...|به گزارششبکه اطلا...|با انتشار خبری مب...|\n",
      "|   30|      50|https://www.tgju....|تحلیل و پیش‌بینی ...|امیر رضا مصطفایی|اخبار ارزهای دیجیتال|  یکشنبه 25 تیر 1402|بیت‌کوین|ریپل|ارز...|به گزارششبکه اطلا...|پس از پیروزی نسبی...|\n",
      "|   31|      54|https://www.tgju....|  طلا، ناکام در صعود|     معصومه دانش|     اخبار طلا و سکه|  یکشنبه 25 تیر 1402|دلار آمریکا|بهای ...|به گزارششبکه اطلا...|به دلیل کاهش بازد...|\n",
      "|   32|      64|https://www.tgju....|یورو/دلار و رسیدن...|     معصومه دانش|          اخبار ارزی|  یکشنبه 25 تیر 1402|یورو|دلار آمریکا|...|به گزارششبکه اطلا...|در حالی که دلار آ...|\n",
      "|   41|      80|https://www.tgju....|بدترین عملکرد برا...|     معصومه دانش|          اخبار ارزی|  یکشنبه 25 تیر 1402|دلار آمریکا|ین ژا...|به گزارششبکه اطلا...|دلار آمریکا که در...|\n",
      "|  812|    7419|https://www.tgju....|ریپل در آستانه‌ی ...|امیر رضا مصطفایی|اخبار ارزهای دیجیتال|  یکشنبه 18 تیر 1402|ریپل|اندیکاتورهای...|به گزارششبکه اطلا...|قیمت ریپل در آیند...|\n",
      "|  155|     196|https://www.tgju....|درس 117 : شاخص تج...|     معصومه دانش|راهنمای جامع اندی...|چهارشنبه 25 اسفند...|شاخص نوسان تجمیعی...|شاخص نوسان تجمیعی...|در این مطلب، اندی...|\n",
      "|   49|      89|https://www.tgju....|آیا نقره، احتمال ...|     معصومه دانش|     اخبار طلا و سکه|    شنبه 24 تیر 1402|نقره|میانگین متحر...|به گزارششبکه اطلا...|در حالی که شاخص د...|\n",
      "|   54|      94|https://www.tgju....|رشد 30 درصدی سولا...|امیر رضا مصطفایی|اخبار ارزهای دیجیتال|    شنبه 24 تیر 1402|سولانا|شاخص قیمت ...|به گزارششبکه اطلا...|رشد خیره‌کننده‌ی ...|\n",
      "|   56|      98|https://www.tgju....| دنده معکوس بهای نفت|     معصومه دانش|     اخبار طلا و سکه|    شنبه 24 تیر 1402|نفت خام|نفت برنت|...|به گزارششبکه اطلا...|در پی تقویت بهای ...|\n",
      "|36992|10078862|https://www.tgju....|جامعه‌ی دوج‌کوین ...|گروه تولید محتوا|اخبار ارزهای دیجیتال|  جمعه 13 اسفند 1400|دوج‌کوین|DOGE|Dog...|به گزارش شبکه اطل...|دوج‌کوین 53 هزار ...|\n",
      "|   59|     102|https://www.tgju....|توصیه کیوساکی به ...|امیر رضا مصطفایی|اخبار ارزهای دیجیتال|    شنبه 24 تیر 1402|بیت‌کوین|رابرت کی...|به گزارششبکه اطلا...|رابرت کیوساکی، نو...|\n",
      "|  158|     202|https://www.tgju....|درس 115 : اندیکات...|     معصومه دانش|راهنمای جامع اندی...|چهارشنبه 25 اسفند...|اندیکاتور وُرتکس|...|اندیکاتور وُرتکس ...|در این مطلب، اندی...|\n",
      "|   62|     106|https://www.tgju....|تلاش شاخص دلار بر...|     معصومه دانش|          اخبار ارزی|    شنبه 24 تیر 1402|دلار آمریکا|شاخص ...|به گزارششبکه اطلا...|شاخص دلار آمریکا ...|\n",
      "|   65|     111|https://www.tgju....|حکم دادگاه ریپل، ...|امیر رضا مصطفایی|اخبار ارزهای دیجیتال|    شنبه 24 تیر 1402|ریپل|جی پی مورگان...|به گزارششبکه اطلا...|دادگاه حکم داد ری...|\n",
      "|   66|     115|https://www.tgju....|تحلیل و پیش‌بینی ...|امیر رضا مصطفایی|اخبار ارزهای دیجیتال|    شنبه 24 تیر 1402|ریپل|بیت‌کوین|اتر...|به گزارششبکه اطلا...|با صدور رای دادگا...|\n",
      "|   67|     120|https://www.tgju....|طلا، مترصد حرکتی ...|     معصومه دانش|     اخبار طلا و سکه|    شنبه 24 تیر 1402|بهای طلا|حرکت قیم...|به گزارششبکه اطلا...|با وجود عقب‌نشینی...|\n",
      "+-----+--------+--------------------+--------------------+----------------+--------------------+--------------------+--------------------+--------------------+--------------------+\n",
      "only showing top 20 rows\n",
      "\n"
     ]
    }
   ],
   "source": [
    "df.show()"
   ]
  },
  {
   "cell_type": "markdown",
   "metadata": {},
   "source": [
    "# Kafka"
   ]
  },
  {
   "cell_type": "code",
   "execution_count": 121,
   "metadata": {},
   "outputs": [],
   "source": [
    "# from kafka import KafkaConsumer\n",
    "\n",
    "# consumer = KafkaConsumer(bootstrap_servers=['localhost:9092']) \n",
    "# topics = consumer.topics()\n",
    "\n",
    "# for topic in topics:\n",
    "#     print(topic)\n"
   ]
  },
  {
   "cell_type": "code",
   "execution_count": 122,
   "metadata": {},
   "outputs": [
    {
     "name": "stdout",
     "output_type": "stream",
     "text": [
      "news_from_step3\n"
     ]
    },
    {
     "data": {
      "text/plain": [
       "DeleteTopicsResponse_v3(throttle_time_ms=0, topic_error_codes=[(topic='news_from_step3', error_code=0)])"
      ]
     },
     "execution_count": 122,
     "metadata": {},
     "output_type": "execute_result"
    }
   ],
   "source": [
    "from kafka import KafkaAdminClient\n",
    "client = KafkaAdminClient(bootstrap_servers=\"localhost:9092\")\n",
    "topics = client.list_topics()\n",
    "\n",
    "for topic in topics:\n",
    "    print(topic)\n",
    "\n",
    "client.delete_topics(topics)\n"
   ]
  },
  {
   "cell_type": "markdown",
   "metadata": {},
   "source": [
    "## Producer"
   ]
  },
  {
   "cell_type": "code",
   "execution_count": 123,
   "metadata": {},
   "outputs": [
    {
     "name": "stdout",
     "output_type": "stream",
     "text": [
      "Sent 1597 lines in total.\n"
     ]
    }
   ],
   "source": [
    "from kafka import KafkaProducer\n",
    "import os, random\n",
    "from pyspark.sql import SparkSession\n",
    "from pyspark.sql.types import DoubleType, IntegerType, StringType\n",
    "from pyspark.sql.functions import mean, col, desc, count, isnull, isnan, when, rank, sum\n",
    "import pandas as pd\n",
    "import matplotlib.pyplot as plt\n",
    "\n",
    "\n",
    "producer = KafkaProducer(bootstrap_servers='127.0.0.1:9092')\n",
    "\n",
    "rdd = df.rdd.map(lambda column:\n",
    "        '\\t'.join([str(c) for c in column])\n",
    "    )\n",
    "\n",
    "# df=rdd.toDF()\n",
    "# df.show()\n",
    "for row in rdd.collect():\n",
    "    producer.send('news_from_crawler', value=row.encode('utf-8'))\n",
    "\n",
    "producer.close()\n",
    "\n",
    "print(f'Sent {rdd.count()} lines in total.')\n"
   ]
  },
  {
   "cell_type": "markdown",
   "metadata": {},
   "source": [
    "## Consumer"
   ]
  },
  {
   "cell_type": "code",
   "execution_count": 124,
   "metadata": {},
   "outputs": [],
   "source": [
    "from kafka import KafkaConsumer\n",
    "from pyspark.sql.types import StructType, StructField, TimestampType, IntegerType, StringType\n",
    "from pyspark.ml.linalg import VectorUDT\n",
    "from pyspark.sql.functions import to_timestamp\n",
    "\n",
    "schema = StructType([\n",
    "    StructField(\"id\", IntegerType(), True),\n",
    "    StructField(\"page_id\", IntegerType(), True),\n",
    "    StructField(\"url\", StringType(), True),\n",
    "    StructField(\"head\", StringType(), True),\n",
    "    StructField(\"author\", StringType(), True),\n",
    "    StructField(\"category\", StringType(), True),\n",
    "    StructField(\"date\", StringType(), True),\n",
    "    StructField(\"tags\", StringType(), True),\n",
    "    StructField(\"text\", StringType(), True),\n",
    "    StructField(\"summary\", StringType(), True),\n",
    "])\n",
    "\n",
    "# offset: subscribe from beginning of time\n",
    "consumer = KafkaConsumer('news_from_crawler', bootstrap_servers='127.0.0.1:9092', auto_offset_reset='earliest')\n"
   ]
  },
  {
   "cell_type": "code",
   "execution_count": 125,
   "metadata": {},
   "outputs": [
    {
     "name": "stdout",
     "output_type": "stream",
     "text": [
      "1597"
     ]
    }
   ],
   "source": [
    "rows = []\n",
    "while True:\n",
    "    partition = \"\"\n",
    "    for _, partition in consumer.poll(timeout_ms=5000, max_records=999999).items():\n",
    "        for msg in partition:\n",
    "            data = msg.value.decode('utf-8').split('\\t')\n",
    "            rows.append({\n",
    "                \"id\": int(data[0]),\n",
    "                \"page_id\": int(data[1]),\n",
    "                \"url\": data[2],\n",
    "                \"head\": data[3],\n",
    "                \"author\": data[4],\n",
    "                \"category\": data[5],\n",
    "                \"date\": data[6],\n",
    "                \"tags\": data[7],\n",
    "                \"text\": data[8],\n",
    "                \"summary\": data[9],\n",
    "            })\n",
    "            print(f'\\r{len(rows)}', end='')\n",
    "    if len(partition) == 0:\n",
    "        break\n",
    "\n",
    "# to df\n",
    "df = spark.createDataFrame(rows, schema=schema)\n"
   ]
  },
  {
   "cell_type": "code",
   "execution_count": 126,
   "metadata": {},
   "outputs": [
    {
     "name": "stdout",
     "output_type": "stream",
     "text": [
      "+-----+--------+--------------------+--------------------+----------------+--------------------+--------------------+--------------------+--------------------+--------------------+\n",
      "|   id| page_id|                 url|                head|          author|            category|                date|                tags|                text|             summary|\n",
      "+-----+--------+--------------------+--------------------+----------------+--------------------+--------------------+--------------------+--------------------+--------------------+\n",
      "|32298| 2172793|https://www.tgju....|سناریوی کاهش نفت ...|     معصومه دانش|     اخبار طلا و سکه|دوشنبه 22 خرداد 1402|بهای نفت|نفت خام|...|به گزارششبکه اطلا...|از آنجا که نگرانی...|\n",
      "|    3|      19|https://www.tgju....|خرس‌های طلا در کمین!|     معصومه دانش|     اخبار طلا و سکه|  یکشنبه 25 تیر 1402|بهای طلا|بهای نقر...|به گزارششبکه اطلا...|گرچه طلا قیمت‌های...|\n",
      "|    4|      21|https://www.tgju....|چشم‌انداز بیت کوی...|امیر رضا مصطفایی|اخبار ارزهای دیجیتال|  یکشنبه 25 تیر 1402|ریپل|بیت کوین|اتر...|به گزارششبکه اطلا...|قیمت بیت‌کوین تحت...|\n",
      "|    5|      23|https://www.tgju....|آیا اکنون وقت خری...|امیر رضا مصطفایی|اخبار ارزهای دیجیتال|  یکشنبه 25 تیر 1402|ریپل|کمیسیون بورس...|به گزارششبکه اطلا...|با انتشار خبری مب...|\n",
      "|   30|      50|https://www.tgju....|تحلیل و پیش‌بینی ...|امیر رضا مصطفایی|اخبار ارزهای دیجیتال|  یکشنبه 25 تیر 1402|بیت‌کوین|ریپل|ارز...|به گزارششبکه اطلا...|پس از پیروزی نسبی...|\n",
      "|   31|      54|https://www.tgju....|  طلا، ناکام در صعود|     معصومه دانش|     اخبار طلا و سکه|  یکشنبه 25 تیر 1402|دلار آمریکا|بهای ...|به گزارششبکه اطلا...|به دلیل کاهش بازد...|\n",
      "|   32|      64|https://www.tgju....|یورو/دلار و رسیدن...|     معصومه دانش|          اخبار ارزی|  یکشنبه 25 تیر 1402|یورو|دلار آمریکا|...|به گزارششبکه اطلا...|در حالی که دلار آ...|\n",
      "|   41|      80|https://www.tgju....|بدترین عملکرد برا...|     معصومه دانش|          اخبار ارزی|  یکشنبه 25 تیر 1402|دلار آمریکا|ین ژا...|به گزارششبکه اطلا...|دلار آمریکا که در...|\n",
      "|  812|    7419|https://www.tgju....|ریپل در آستانه‌ی ...|امیر رضا مصطفایی|اخبار ارزهای دیجیتال|  یکشنبه 18 تیر 1402|ریپل|اندیکاتورهای...|به گزارششبکه اطلا...|قیمت ریپل در آیند...|\n",
      "|  155|     196|https://www.tgju....|درس 117 : شاخص تج...|     معصومه دانش|راهنمای جامع اندی...|چهارشنبه 25 اسفند...|شاخص نوسان تجمیعی...|شاخص نوسان تجمیعی...|در این مطلب، اندی...|\n",
      "|   49|      89|https://www.tgju....|آیا نقره، احتمال ...|     معصومه دانش|     اخبار طلا و سکه|    شنبه 24 تیر 1402|نقره|میانگین متحر...|به گزارششبکه اطلا...|در حالی که شاخص د...|\n",
      "|   54|      94|https://www.tgju....|رشد 30 درصدی سولا...|امیر رضا مصطفایی|اخبار ارزهای دیجیتال|    شنبه 24 تیر 1402|سولانا|شاخص قیمت ...|به گزارششبکه اطلا...|رشد خیره‌کننده‌ی ...|\n",
      "|   56|      98|https://www.tgju....| دنده معکوس بهای نفت|     معصومه دانش|     اخبار طلا و سکه|    شنبه 24 تیر 1402|نفت خام|نفت برنت|...|به گزارششبکه اطلا...|در پی تقویت بهای ...|\n",
      "|36992|10078862|https://www.tgju....|جامعه‌ی دوج‌کوین ...|گروه تولید محتوا|اخبار ارزهای دیجیتال|  جمعه 13 اسفند 1400|دوج‌کوین|DOGE|Dog...|به گزارش شبکه اطل...|دوج‌کوین 53 هزار ...|\n",
      "|   59|     102|https://www.tgju....|توصیه کیوساکی به ...|امیر رضا مصطفایی|اخبار ارزهای دیجیتال|    شنبه 24 تیر 1402|بیت‌کوین|رابرت کی...|به گزارششبکه اطلا...|رابرت کیوساکی، نو...|\n",
      "|  158|     202|https://www.tgju....|درس 115 : اندیکات...|     معصومه دانش|راهنمای جامع اندی...|چهارشنبه 25 اسفند...|اندیکاتور وُرتکس|...|اندیکاتور وُرتکس ...|در این مطلب، اندی...|\n",
      "|   62|     106|https://www.tgju....|تلاش شاخص دلار بر...|     معصومه دانش|          اخبار ارزی|    شنبه 24 تیر 1402|دلار آمریکا|شاخص ...|به گزارششبکه اطلا...|شاخص دلار آمریکا ...|\n",
      "|   65|     111|https://www.tgju....|حکم دادگاه ریپل، ...|امیر رضا مصطفایی|اخبار ارزهای دیجیتال|    شنبه 24 تیر 1402|ریپل|جی پی مورگان...|به گزارششبکه اطلا...|دادگاه حکم داد ری...|\n",
      "|   66|     115|https://www.tgju....|تحلیل و پیش‌بینی ...|امیر رضا مصطفایی|اخبار ارزهای دیجیتال|    شنبه 24 تیر 1402|ریپل|بیت‌کوین|اتر...|به گزارششبکه اطلا...|با صدور رای دادگا...|\n",
      "|   67|     120|https://www.tgju....|طلا، مترصد حرکتی ...|     معصومه دانش|     اخبار طلا و سکه|    شنبه 24 تیر 1402|بهای طلا|حرکت قیم...|به گزارششبکه اطلا...|با وجود عقب‌نشینی...|\n",
      "+-----+--------+--------------------+--------------------+----------------+--------------------+--------------------+--------------------+--------------------+--------------------+\n",
      "only showing top 20 rows\n",
      "\n"
     ]
    }
   ],
   "source": [
    "df.show()"
   ]
  },
  {
   "cell_type": "markdown",
   "metadata": {},
   "source": [
    "Close session"
   ]
  },
  {
   "cell_type": "code",
   "execution_count": 127,
   "metadata": {},
   "outputs": [],
   "source": [
    "spark.sparkContext.stop()\n"
   ]
  }
 ],
 "metadata": {
  "kernelspec": {
   "display_name": "base",
   "language": "python",
   "name": "python3"
  },
  "language_info": {
   "codemirror_mode": {
    "name": "ipython",
    "version": 3
   },
   "file_extension": ".py",
   "mimetype": "text/x-python",
   "name": "python",
   "nbconvert_exporter": "python",
   "pygments_lexer": "ipython3",
   "version": "3.8.8"
  },
  "orig_nbformat": 4
 },
 "nbformat": 4,
 "nbformat_minor": 2
}
