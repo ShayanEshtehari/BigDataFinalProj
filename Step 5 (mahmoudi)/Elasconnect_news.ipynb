{
 "cells": [
  {
   "cell_type": "code",
   "execution_count": null,
   "id": "064fe3f5",
   "metadata": {},
   "outputs": [],
   "source": []
  },
  {
   "cell_type": "code",
   "execution_count": 1,
   "id": "b7241461",
   "metadata": {},
   "outputs": [],
   "source": [
    "from elasticsearch import Elasticsearch, helpers\n",
    "import csv"
   ]
  },
  {
   "cell_type": "code",
   "execution_count": 2,
   "id": "8e7389cd",
   "metadata": {},
   "outputs": [],
   "source": [
    "elas = Elasticsearch(hosts=\"http://localhost:9200\")\n"
   ]
  },
  {
   "cell_type": "code",
   "execution_count": 3,
   "id": "8716ac44",
   "metadata": {},
   "outputs": [
    {
     "name": "stderr",
     "output_type": "stream",
     "text": [
      "/tmp/ipykernel_9766/2353910976.py:1: ElasticsearchWarning: Elasticsearch built-in security features are not enabled. Without authentication, your cluster could be accessible to anyone. See https://www.elastic.co/guide/en/elasticsearch/reference/7.17/security-minimal-setup.html to enable security.\n",
      "  if not elas.ping():\n"
     ]
    }
   ],
   "source": [
    "if not elas.ping():\n",
    "    raise ValueError(\"Failed to connect to Elasticsearch!\")"
   ]
  },
  {
   "cell_type": "code",
   "execution_count": null,
   "id": "df669f45",
   "metadata": {},
   "outputs": [],
   "source": []
  },
  {
   "cell_type": "code",
   "execution_count": 4,
   "id": "f529b868",
   "metadata": {},
   "outputs": [
    {
     "name": "stderr",
     "output_type": "stream",
     "text": [
      "/tmp/ipykernel_9766/570545090.py:2: ElasticsearchWarning: Elasticsearch built-in security features are not enabled. Without authentication, your cluster could be accessible to anyone. See https://www.elastic.co/guide/en/elasticsearch/reference/7.17/security-minimal-setup.html to enable security.\n",
      "  if not elas.indices.exists(index=index_name):\n"
     ]
    }
   ],
   "source": [
    "index_name = 'news_10'\n",
    "if not elas.indices.exists(index=index_name):\n",
    "    elas.indices.create(index=index_name, ignore=400)"
   ]
  },
  {
   "cell_type": "code",
   "execution_count": null,
   "id": "b750961a",
   "metadata": {},
   "outputs": [],
   "source": []
  },
  {
   "cell_type": "code",
   "execution_count": 5,
   "id": "2f602e01",
   "metadata": {},
   "outputs": [
    {
     "name": "stderr",
     "output_type": "stream",
     "text": [
      "/tmp/ipykernel_9766/2977199054.py:19: ElasticsearchWarning: Elasticsearch built-in security features are not enabled. Without authentication, your cluster could be accessible to anyone. See https://www.elastic.co/guide/en/elasticsearch/reference/7.17/security-minimal-setup.html to enable security.\n",
      "  helpers.bulk(elas, generate_actions())\n"
     ]
    },
    {
     "data": {
      "text/plain": [
       "(90, [])"
      ]
     },
     "execution_count": 5,
     "metadata": {},
     "output_type": "execute_result"
    }
   ],
   "source": [
    "# تابع generate_actions برای خواندن داده‌ها از فایل CSV و تولید مستند‌ها برای ارسال به Elasticsearch\n",
    "def generate_actions():\n",
    "    with open('news_202307170512.csv', 'r', encoding='utf-8') as f:\n",
    "        reader = csv.DictReader(f, delimiter='\\t')\n",
    "        for row in reader:\n",
    "            # پیش‌پردازش مقادیر\n",
    "            # حذف مقادیر نال\n",
    "            for key, value in row.items():\n",
    "                if value.strip() == '':\n",
    "                    row[key] = None        \n",
    "            # جداسازی مقادیر در ستون \"tag\" با کاراکتر |\n",
    "            row['tags'] = row['tags'].split('|') if row.get('tags') else []\n",
    "            yield {\n",
    "                \"_index\": index_name,\n",
    "                \"_source\": row\n",
    "            }\n",
    "\n",
    "# اضافه کردن داده‌ها به Elasticsearch با استفاده از helpers.bulk و پیش‌پردازش داده‌ها\n",
    "helpers.bulk(elas, generate_actions())"
   ]
  },
  {
   "cell_type": "code",
   "execution_count": null,
   "id": "dcd4e0ca",
   "metadata": {},
   "outputs": [],
   "source": []
  },
  {
   "cell_type": "code",
   "execution_count": 6,
   "id": "cad9f326",
   "metadata": {},
   "outputs": [
    {
     "name": "stdout",
     "output_type": "stream",
     "text": [
      "تعداد سطرها: 90\n",
      "تعداد ستون‌ها: 10\n"
     ]
    }
   ],
   "source": [
    "# تعداد سطرها و ستون‌های پس از پیش‌پردازش\n",
    "with open('news_202307170512.csv', 'r', encoding='utf-8') as f:\n",
    "    reader = csv.DictReader(f, delimiter='\\t')\n",
    "    rows = sum(1 for _ in reader)\n",
    "\n",
    "with open('news_202307170512.csv', 'r', encoding='utf-8') as f:\n",
    "    reader = csv.reader(f, delimiter='\\t')\n",
    "    header = next(reader)\n",
    "    columns = len(header)\n",
    "\n",
    "print(\"تعداد سطرها:\", rows)\n",
    "print(\"تعداد ستون‌ها:\", columns)\n"
   ]
  },
  {
   "cell_type": "code",
   "execution_count": null,
   "id": "af8d1066",
   "metadata": {},
   "outputs": [],
   "source": []
  },
  {
   "cell_type": "code",
   "execution_count": null,
   "id": "c5ede33d",
   "metadata": {},
   "outputs": [],
   "source": []
  },
  {
   "cell_type": "code",
   "execution_count": null,
   "id": "9432bb84",
   "metadata": {},
   "outputs": [],
   "source": []
  },
  {
   "cell_type": "code",
   "execution_count": null,
   "id": "722f1e5f",
   "metadata": {},
   "outputs": [],
   "source": []
  },
  {
   "cell_type": "code",
   "execution_count": null,
   "id": "14e4f62e",
   "metadata": {},
   "outputs": [],
   "source": []
  },
  {
   "cell_type": "code",
   "execution_count": null,
   "id": "0fe60c3e",
   "metadata": {},
   "outputs": [],
   "source": []
  },
  {
   "cell_type": "code",
   "execution_count": null,
   "id": "0bc6c339",
   "metadata": {},
   "outputs": [],
   "source": []
  }
 ],
 "metadata": {
  "kernelspec": {
   "display_name": "Python 3 (ipykernel)",
   "language": "python",
   "name": "python3"
  },
  "language_info": {
   "codemirror_mode": {
    "name": "ipython",
    "version": 3
   },
   "file_extension": ".py",
   "mimetype": "text/x-python",
   "name": "python",
   "nbconvert_exporter": "python",
   "pygments_lexer": "ipython3",
   "version": "3.10.6"
  }
 },
 "nbformat": 4,
 "nbformat_minor": 5
}
