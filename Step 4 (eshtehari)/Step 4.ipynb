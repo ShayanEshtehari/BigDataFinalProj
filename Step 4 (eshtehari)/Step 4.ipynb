{
 "cells": [
  {
   "cell_type": "markdown",
   "metadata": {},
   "source": [
    "# Consumer"
   ]
  },
  {
   "cell_type": "code",
   "execution_count": 24,
   "metadata": {},
   "outputs": [],
   "source": [
    "from kafka import KafkaConsumer\n",
    "from pyspark.sql.types import StructType, StructField, TimestampType, IntegerType, StringType\n",
    "from pyspark.ml.linalg import VectorUDT\n",
    "from pyspark.sql.functions import to_timestamp\n",
    "\n",
    "schema = StructType([\n",
    "    StructField(\"id\", IntegerType(), True),\n",
    "    StructField(\"page_id\", IntegerType(), True),\n",
    "    StructField(\"url\", StringType(), True),\n",
    "    StructField(\"head\", StringType(), True),\n",
    "    StructField(\"author\", StringType(), True),\n",
    "    StructField(\"category\", StringType(), True),\n",
    "    StructField(\"date\", StringType(), True),\n",
    "    StructField(\"tags\", StringType(), True),\n",
    "    StructField(\"text\", StringType(), True),\n",
    "    StructField(\"summary\", StringType(), True),\n",
    "    StructField(\"hashtags\", StringType(), True),\n",
    "    StructField(\"keywords\", StringType(), True),\n",
    "])\n",
    "\n",
    "# offset: subscribe from beginning of time\n",
    "consumer = KafkaConsumer('news_from_step3', bootstrap_servers='127.0.0.1:9092', auto_offset_reset='earliest')\n"
   ]
  },
  {
   "cell_type": "code",
   "execution_count": 25,
   "metadata": {},
   "outputs": [
    {
     "name": "stdout",
     "output_type": "stream",
     "text": [
      "1597"
     ]
    }
   ],
   "source": [
    "import pandas as pd\n",
    "\n",
    "rows = []\n",
    "while True:\n",
    "    partition = \"\"\n",
    "    for _, partition in consumer.poll(timeout_ms=5000, max_records=999999).items():\n",
    "        for msg in partition:\n",
    "            data = msg.value.decode('utf-8').split('\\t')\n",
    "            rows.append({\n",
    "                \"id\": int(data[0]),\n",
    "                \"page_id\": int(data[1]),\n",
    "                \"url\": data[2],\n",
    "                \"head\": data[3],\n",
    "                \"author\": data[4],\n",
    "                \"category\": data[5],\n",
    "                \"date\": data[6],\n",
    "                \"tags\": data[7],\n",
    "                \"text\": data[8],\n",
    "                \"summary\": data[9],\n",
    "                \"hashtags\": data[10],\n",
    "                \"keywords\": data[11],\n",
    "            })\n",
    "            print(f'\\r{len(rows)}', end='')\n",
    "    if len(partition) == 0:\n",
    "        break\n",
    "\n",
    "df = pd.DataFrame(rows)\n"
   ]
  },
  {
   "cell_type": "markdown",
   "metadata": {},
   "source": [
    "# Cassandra"
   ]
  },
  {
   "cell_type": "code",
   "execution_count": 26,
   "metadata": {},
   "outputs": [],
   "source": [
    "import uuid\n",
    "from cassandra.cqlengine import columns, connection\n",
    "from cassandra.cqlengine.management import sync_table\n",
    "from cassandra.cqlengine.models import Model\n",
    "from cassandra.cqlengine.query import BatchQuery\n"
   ]
  },
  {
   "cell_type": "code",
   "execution_count": 27,
   "metadata": {},
   "outputs": [],
   "source": [
    "from cassandra.cluster import Cluster\n",
    "\n",
    "cluster = Cluster(['127.0.0.1'])\n",
    "session = cluster.connect()\n",
    "session.execute('DROP KEYSPACE IF EXISTS news;')\n",
    "session.execute(\"CREATE KEYSPACE IF NOT EXISTS news WITH replication = {'class': 'SimpleStrategy', 'replication_factor': 1};\")\n",
    "session.execute(\"CREATE KEYSPACE IF NOT EXISTS test_db WITH replication = {'class': 'SimpleStrategy', 'replication_factor': 1};\")\n",
    "session.shutdown()\n",
    "session = cluster.connect('news')\n",
    "\n",
    "# prepared = session.prepare(\"INSERT INTO news.2023 (id, name) VALUES (?, ?)\")\n",
    "# session.execute(prepared, (1, 'John'))\n"
   ]
  },
  {
   "cell_type": "markdown",
   "metadata": {},
   "source": [
    "## Model"
   ]
  },
  {
   "cell_type": "code",
   "execution_count": 28,
   "metadata": {},
   "outputs": [
    {
     "name": "stderr",
     "output_type": "stream",
     "text": [
      "d:\\anaconda3\\lib\\site-packages\\cassandra\\cqlengine\\management.py:553: UserWarning: CQLENG_ALLOW_SCHEMA_MANAGEMENT environment variable is not set. Future versions of this package will require this variable to enable management functions.\n",
      "  warnings.warn(msg)\n"
     ]
    }
   ],
   "source": [
    "class NewsModel(Model):\n",
    "    id       = columns.UUID(primary_key=True, default=uuid.uuid4)\n",
    "    url      = columns.Text()\n",
    "    head     = columns.Text()\n",
    "    author   = columns.Text()\n",
    "    category = columns.Text()\n",
    "    date     = columns.Text()\n",
    "    tags     = columns.Text()\n",
    "    text     = columns.Text()\n",
    "    summary  = columns.Text()\n",
    "    hashtags  = columns.Text()\n",
    "    keywords  = columns.Text()\n",
    "\n",
    "connection.setup(['127.0.0.1'], \"news\", protocol_version=3)\n",
    "sync_table(NewsModel)\n"
   ]
  },
  {
   "cell_type": "markdown",
   "metadata": {},
   "source": [
    "## Batch"
   ]
  },
  {
   "cell_type": "code",
   "execution_count": 29,
   "metadata": {},
   "outputs": [],
   "source": [
    "from datetime import datetime\n",
    "date_format = \"%m/%d/%Y %H:%M:%S\"\n",
    "\n",
    "# df_list = df.collect()\n",
    "df_list = df.to_dict(orient='records')\n",
    "batch_max_size = 2\n",
    "df_batches = [df_list[i:i+batch_max_size] for i in range(0, len(df_list), batch_max_size)]\n",
    "\n",
    "for df_batch in df_batches:\n",
    "    batch = BatchQuery()\n",
    "    for row in df_batch:\n",
    "        NewsModel.batch(batch).create(\n",
    "            # date_time = datetime.strptime(row['Date/Time'], date_format),\n",
    "            url = row['url'],\n",
    "            head = row['head'],\n",
    "            author = row['author'],\n",
    "            category = row['category'],\n",
    "            date = row['date'],\n",
    "            tags = row['tags'],\n",
    "            text = row['text'],\n",
    "            summary = row['summary'],\n",
    "            hashtags = row['hashtags'],\n",
    "            keywords = row['keywords'],\n",
    "        )\n",
    "    batch.execute()\n"
   ]
  },
  {
   "cell_type": "code",
   "execution_count": 31,
   "metadata": {},
   "outputs": [
    {
     "data": {
      "text/plain": [
       "{'id': 39142,\n",
       " 'page_id': 10990255,\n",
       " 'url': 'https://www.tgju.org/news/2617083/آیا-طلا-تا-پایان-2023-می-درخشد',\n",
       " 'head': 'آیا طلا تا پایان 2023 می\\u200cدرخشد؟',\n",
       " 'author': 'معصومه دانش',\n",
       " 'category': 'اخبار طلا و سکه',\n",
       " 'date': '1402-01-30',\n",
       " 'tags': \"['بهای طلا', 'پناهگاه امن', 'رکورد بی\\\\u200cسابقه', 'تورم', 'سیاست پولی', 'اقتصاد جهانی', 'جذابیت طلا', 'فرود سخت', 'رکود اقتصادی', 'مبارزه با تورم', 'محافظ تورمی', 'اخبار ویژه']\",\n",
       " 'text': 'شبکه اطلاع\\u200cرسانی طلا ارز کیتکونیوز اولیه\\u200cیطلاو دلار اونس بحران بانک ماه گذشته دلیل موجه سرمایه\\u200cگذار مجاب مقدار طلا سبد سهام داشتهباشند بنا گفته شرکت سرمایه\\u200cگذار فلز گرانبها پایان سال عنوان دارایی امن ارزش موقعیت باقی خواهدماند ایمارو کازانووا معاون مدیر وجو فاستر مدیر پورتفو استراتژیست صندوق طلا گزارش هفته گذشته منتشر قیمت\\u200cها حمایت قوی بالا دلار اونس برخوردار ارزش طلا دید ادامه نوشت تحولات ماه گذشته عنوان زنگ خطر عمل حضور طلا روگردان نقطه ورود ابدأ دلهره\\u200cآور علیرغم افزایش سطح ریسک ماه مارس طلا رکوردهای بی\\u200cسابقه رسید اظهارات خوشبینانه قیمت طلا فروش شدید اواخر هفته گذشته بهبود بازار بالا ماه گذشته بالا دلار اونس سرمایه\\u200cگذار سود دست آورد طلا ماه ژوئن درصد افزایش سطح دلار معامله اگرچه تنش\\u200cهای پیرامون بحران بانک جهانی هفته کاهش\\u200cیافته منجر اصلاح کوتاه\\u200cمدت طلا شدهاست مدیر صندوق باورند ریسک محیط افزایش مداوم تورم کندی فعال اقتصاد افزایش هشدار اقتصاد جهانی اثرات سیاست\\u200cهای پول سختگیرانه\\u200cی فدرال رزرو احساس نکردهاست سرمایه\\u200cگذار احتمالا شکاف سیستم شکستهشود کازانوواوفاسترمعتقدند بدترشدن شرایط اقتصاد فدرال رزرو مجبور خواهدشد سرعت سیاست پول نوسانات قابل\\u200cتوجه ماه گذشته بازار ایده حدود تسکین یافت فدرال رزرو ماه آینده نرخ بهره واحد پایه افزایش خواهدداد بازار اواخر نیمه سال کاهش احتمال نرخ حتمی دانست تحلیلگر اظهار جذابیت طلا سناریوهایی تاثیر منفی سیاست مبارزه تورم احتمال وقوع فرود سخت رکود افزایش چشم\\u200cانداز درخشانی سرمایه\\u200cگذار آماده\\u200cاند نقش طلا به\\u200cعنوان محافظ تور عنوان پناهگاه امن دوره نوسانات اقتصاد مالی ژئوپلیتیکی مه به\\u200cعنوان تنوع\\u200cبخش پرتفوی بهره برد کازانووا فاستر پاسخ پرسش طلا شرایط فعلی چقدر پتانسیل صعود اظهار بدان دلیل سرمایه\\u200cگذار خرد تازه توجه طلا کرد نمی\\u200cتوان سؤال جواب قطع بنا گفته تحلیلگر جر ورود ماه مارس مطمئنا نشانه بهبود روحیه بازار طلاست دارا فعلی حاضر پایین سطح تاریخ قرار باری طلا آوریل دلار اونس ذخایر جهانی طلا درصد مقدار امروز بالا',\n",
       " 'summary': 'تحلیلگران بر این باورند که طلا تا پایان سال 2023 همچنان به عنوان یک دارایی ارزشمند و پناهگاه امن جایگاه خود را حفظ خواهد کرد.',\n",
       " 'hashtags': \"['بهای طلا', 'پناهگاه امن', 'رکورد بی\\\\u200cسابقه', 'تورم', 'سیاست پولی', 'اقتصاد جهانی', 'جذابیت طلا', 'فرود سخت', 'رکود اقتصادی', 'مبارزه با تورم', 'محافظ تورمی', 'اخبار ویژه']\",\n",
       " 'keywords': \"['طلا', 'ماه', 'گذشته', 'سرمایه\\\\\\\\u200cگذار', 'افزایش']\"}"
      ]
     },
     "execution_count": 31,
     "metadata": {},
     "output_type": "execute_result"
    }
   ],
   "source": [
    "row"
   ]
  },
  {
   "cell_type": "code",
   "execution_count": 30,
   "metadata": {},
   "outputs": [
    {
     "data": {
      "text/plain": [
       "Index(['id', 'page_id', 'url', 'head', 'author', 'category', 'date', 'tags',\n",
       "       'text', 'summary', 'hashtags', 'keywords'],\n",
       "      dtype='object')"
      ]
     },
     "execution_count": 30,
     "metadata": {},
     "output_type": "execute_result"
    }
   ],
   "source": [
    "df.columns"
   ]
  },
  {
   "cell_type": "markdown",
   "metadata": {},
   "source": [
    "# Run ./manage.py sync_cassandra\n"
   ]
  }
 ],
 "metadata": {
  "kernelspec": {
   "display_name": "base",
   "language": "python",
   "name": "python3"
  },
  "language_info": {
   "codemirror_mode": {
    "name": "ipython",
    "version": 3
   },
   "file_extension": ".py",
   "mimetype": "text/x-python",
   "name": "python",
   "nbconvert_exporter": "python",
   "pygments_lexer": "ipython3",
   "version": "3.8.8"
  },
  "orig_nbformat": 4
 },
 "nbformat": 4,
 "nbformat_minor": 2
}
